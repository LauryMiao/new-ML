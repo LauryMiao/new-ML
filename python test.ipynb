{
 "cells": [
  {
   "cell_type": "code",
   "execution_count": 2,
   "metadata": {
    "collapsed": false
   },
   "outputs": [
    {
     "data": {
      "text/plain": [
       "{}"
      ]
     },
     "execution_count": 2,
     "metadata": {},
     "output_type": "execute_result"
    }
   ],
   "source": [
    "d = {'name':'George'}\n",
    "dp = d.setdefault('names',{})\n",
    "dp"
   ]
  },
  {
   "cell_type": "code",
   "execution_count": 5,
   "metadata": {
    "collapsed": false
   },
   "outputs": [
    {
     "data": {
      "text/plain": [
       "2"
      ]
     },
     "execution_count": 5,
     "metadata": {},
     "output_type": "execute_result"
    }
   ],
   "source": [
    "len(d)"
   ]
  },
  {
   "cell_type": "code",
   "execution_count": 7,
   "metadata": {
    "collapsed": false
   },
   "outputs": [
    {
     "data": {
      "text/plain": [
       "2"
      ]
     },
     "execution_count": 7,
     "metadata": {},
     "output_type": "execute_result"
    }
   ],
   "source": [
    "x = [1,2,3,4,4,5,6,1]\n",
    "x.count(4)"
   ]
  },
  {
   "cell_type": "code",
   "execution_count": 11,
   "metadata": {
    "collapsed": false
   },
   "outputs": [
    {
     "name": "stdout",
     "output_type": "stream",
     "text": [
      "*\n",
      "f5\n",
      "3.142\n",
      "*\n",
      "f5b\n",
      "3.556\n",
      "*\n",
      "f8\n",
      "1.85\n",
      "*\n",
      "f10\n",
      "2.165\n",
      "*\n",
      "f11\n",
      "2.227\n",
      "f1\n",
      "0.001\n",
      "f3\n",
      "0.842\n",
      "f7\n",
      "0.725\n",
      "f9\n",
      "0.586\n"
     ]
    }
   ],
   "source": [
    "from random import shuffle, randint\n",
    "import re\n",
    "\n",
    "def f1(seq): # Raymond Hettinger\n",
    "    # not order preserving\n",
    "    set = {}\n",
    "    map(set.__setitem__, seq, [])\n",
    "    return set.keys()\n",
    "\n",
    "    \n",
    "def f2(seq):   # *********\n",
    "    # order preserving\n",
    "    checked = []\n",
    "    for e in seq:\n",
    "        if e not in checked:\n",
    "            checked.append(e)\n",
    "    return checked\n",
    "\n",
    "def f3(seq):\n",
    "    # Not order preserving\n",
    "    keys = {}\n",
    "    for e in seq:\n",
    "        keys[e] = 1\n",
    "    return keys.keys()\n",
    "\n",
    "def f4(seq): # ********** order preserving\n",
    "    noDupes = []\n",
    "    [noDupes.append(i) for i in seq if not noDupes.count(i)]\n",
    "    return noDupes\n",
    "\n",
    "def f5(seq, idfun=None): # Alex Martelli ******* order preserving\n",
    "    if idfun is None:\n",
    "        def idfun(x): return x\n",
    "    seen = {}\n",
    "    result = []\n",
    "    for item in seq:\n",
    "        marker = idfun(item)\n",
    "        # in old Python versions:\n",
    "        # if seen.has_key(marker)\n",
    "        # but in new ones:\n",
    "        if marker in seen: continue\n",
    "        seen[marker] = 1\n",
    "        result.append(item)\n",
    "    return result\n",
    "\n",
    "\n",
    "def f5b(seq, idfun=None): # Alex Martelli ******* order preserving\n",
    "    if idfun is None:\n",
    "        def idfun(x): return x\n",
    "    seen = {}\n",
    "    result = []\n",
    "    for item in seq:\n",
    "        marker = idfun(item)\n",
    "        # in old Python versions:\n",
    "        # if seen.has_key(marker)\n",
    "        # but in new ones:\n",
    "        if marker not in seen:\n",
    "            seen[marker] = 1\n",
    "            result.append(item)\n",
    "            \n",
    "    return result\n",
    "\n",
    "\n",
    "def f7(seq):\n",
    "    # Not order preserving\n",
    "    return list(set(seq))\n",
    "\n",
    "def f8(seq): # Dave Kirby\n",
    "    # Order preserving\n",
    "    seen = set()\n",
    "    return [x for x in seq if x not in seen and not seen.add(x)]\n",
    "\n",
    "def f9(seq):\n",
    "    # Not order preserving\n",
    "    return {}.fromkeys(seq).keys()\n",
    "\n",
    "def f10(seq, idfun=None): # Andrew Dalke\n",
    "    # Order preserving\n",
    "    return list(_f10(seq, idfun))\n",
    "\n",
    "def _f10(seq, idfun=None):\n",
    "    seen = set()\n",
    "    if idfun is None:\n",
    "        for x in seq:\n",
    "            if x in seen:\n",
    "                continue\n",
    "            seen.add(x)\n",
    "            yield x\n",
    "    else:\n",
    "        for x in seq:\n",
    "            x = idfun(x)\n",
    "            if x in seen:\n",
    "                continue\n",
    "            seen.add(x)\n",
    "            yield x\n",
    "            \n",
    "            \n",
    "def f11(seq): # f10 but simpler\n",
    "    # Order preserving\n",
    "    return list(_f10(seq))\n",
    "\n",
    "def _f11(seq):\n",
    "    seen = set()\n",
    "    for x in seq:\n",
    "        if x in seen:\n",
    "            continue\n",
    "        seen.add(x)\n",
    "        yield x\n",
    "            \n",
    "import time\n",
    "\n",
    "def timing(f, n, a):\n",
    "    print(f.__name__),\n",
    "    r = range(n)\n",
    "    t1 = time.clock()\n",
    "    for i in r:\n",
    "        f(a); f(a); f(a); f(a); f(a); f(a); f(a); f(a); f(a); f(a)\n",
    "    t2 = time.clock()\n",
    "    print(round(t2-t1, 3))\n",
    "    \n",
    "\n",
    "\n",
    "\n",
    "def getRandomString(length=10, loweronly=1, numbersonly=0,\n",
    "                    lettersonly=0):\n",
    "    \"\"\" return a very random string \"\"\"\n",
    "    _letters = 'abcdefghijklmnopqrstuvwxyz'\n",
    "    if numbersonly:\n",
    "        l = list('0123456789')\n",
    "    elif lettersonly:\n",
    "        l = list(_letters + _letters.upper())\n",
    "    else:\n",
    "        lowercase = _letters+'0123456789'*2\n",
    "        l = list(lowercase + lowercase.upper())\n",
    "    shuffle(l)\n",
    "    s = ''.join(l)\n",
    "    if len(s) < length:\n",
    "        s = s + getRandomString(loweronly=1)\n",
    "    s = s[:length]\n",
    "    if loweronly:\n",
    "        return s.lower()\n",
    "    else:\n",
    "        return s\n",
    "\n",
    "testdata = {}\n",
    "for i in range(35):\n",
    "    k = getRandomString(5, lettersonly=1)\n",
    "    v = getRandomString(100 )\n",
    "    testdata[k] = v\n",
    "    \n",
    "testdata = [int(x) for x in list('21354612')]\n",
    "testdata += list('abcceeaa5efm')\n",
    "class X:\n",
    "    def __init__(self, n):\n",
    "        self.foo = n\n",
    "    def __repr__(self):\n",
    "        return \"<foo %r>\"%self.foo\n",
    "    def __cmp__(self, e):\n",
    "        return cmp(self.foo, e.foo)\n",
    "        \n",
    "testdata = []\n",
    "for i in range(10000):\n",
    "    testdata.append(getRandomString(3, loweronly=True))\n",
    "#testdata = ['f','g','c','d','b','a','a']\n",
    "\n",
    "\n",
    "order_preserving = f2, f4, f5, f5b, f8, f10, f11\n",
    "order_preserving = f5, f5b, f8, f10, f11\n",
    "\n",
    "not_order_preserving = f1, f3, f7, f9\n",
    "testfuncs = order_preserving + not_order_preserving\n",
    "\n",
    "\n",
    "for f in testfuncs:\n",
    "    if f in order_preserving:\n",
    "        print(\"*\"),\n",
    "    timing(f, 100, testdata)\n"
   ]
  },
  {
   "cell_type": "code",
   "execution_count": 19,
   "metadata": {
    "collapsed": false
   },
   "outputs": [
    {
     "data": {
      "text/plain": [
       "[1, 2, 3, 4, 5]"
      ]
     },
     "execution_count": 19,
     "metadata": {},
     "output_type": "execute_result"
    }
   ],
   "source": [
    "seq = [1,2,3,4,5]\n",
    "ff=_f10(seq)\n",
    "list(ff)\n"
   ]
  },
  {
   "cell_type": "code",
   "execution_count": 20,
   "metadata": {
    "collapsed": false
   },
   "outputs": [],
   "source": [
    "import logging\n",
    "logging.debug('This is a debug message')"
   ]
  },
  {
   "cell_type": "code",
   "execution_count": 21,
   "metadata": {
    "collapsed": false
   },
   "outputs": [],
   "source": [
    "import unittest"
   ]
  },
  {
   "cell_type": "code",
   "execution_count": 18,
   "metadata": {
    "collapsed": false
   },
   "outputs": [
    {
     "data": {
      "text/plain": [
       "[4, 5]"
      ]
     },
     "execution_count": 18,
     "metadata": {},
     "output_type": "execute_result"
    }
   ],
   "source": [
    "unittest."
   ]
  },
  {
   "cell_type": "code",
   "execution_count": null,
   "metadata": {
    "collapsed": true
   },
   "outputs": [],
   "source": []
  }
 ],
 "metadata": {
  "kernelspec": {
   "display_name": "Python 3",
   "language": "python",
   "name": "python3"
  },
  "language_info": {
   "codemirror_mode": {
    "name": "ipython",
    "version": 3
   },
   "file_extension": ".py",
   "mimetype": "text/x-python",
   "name": "python",
   "nbconvert_exporter": "python",
   "pygments_lexer": "ipython3",
   "version": "3.6.0"
  }
 },
 "nbformat": 4,
 "nbformat_minor": 2
}
