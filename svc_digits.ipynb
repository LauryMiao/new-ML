{
 "cells": [
  {
   "cell_type": "code",
   "execution_count": 61,
   "metadata": {
    "scrolled": true
   },
   "outputs": [
    {
     "name": "stdout",
     "output_type": "stream",
     "text": [
      "(1797, 8, 8)\n",
      "(1797,)\n",
      "Classifier Report:\n",
      "SVC(C=10, cache_size=200, class_weight=None, coef0=0.0,\n",
      "  decision_function_shape='ovr', degree=3, gamma=0.001, kernel='rbf',\n",
      "  max_iter=-1, probability=False, random_state=None, shrinking=True,\n",
      "  tol=0.001, verbose=False)\n",
      "\n",
      "             precision    recall  f1-score   support\n",
      "\n",
      "          0       1.00      0.98      0.99        60\n",
      "          1       0.98      1.00      0.99        59\n",
      "          2       1.00      1.00      1.00        61\n",
      "          3       0.98      0.96      0.97        53\n",
      "          4       0.98      1.00      0.99        64\n",
      "          5       0.98      0.96      0.97        53\n",
      "          6       0.98      1.00      0.99        60\n",
      "          7       0.98      1.00      0.99        60\n",
      "          8       1.00      0.97      0.98        65\n",
      "          9       0.97      0.98      0.97        59\n",
      "\n",
      "avg / total       0.99      0.99      0.99       594\n",
      "\n",
      "Confusion matrix:\n",
      "[[59  0  0  0  1  0  0  0  0  0]\n",
      " [ 0 59  0  0  0  0  0  0  0  0]\n",
      " [ 0  0 61  0  0  0  0  0  0  0]\n",
      " [ 0  0  0 51  0  0  0  1  0  1]\n",
      " [ 0  0  0  0 64  0  0  0  0  0]\n",
      " [ 0  0  0  0  0 51  1  0  0  1]\n",
      " [ 0  0  0  0  0  0 60  0  0  0]\n",
      " [ 0  0  0  0  0  0  0 60  0  0]\n",
      " [ 0  1  0  1  0  0  0  0 63  0]\n",
      " [ 0  0  0  0  0  1  0  0  0 58]]\n",
      "Score:0.9865319865319865\n"
     ]
    },
    {
     "data": {
      "image/png": "[encoded data removed]",
      "text/plain": [
       "<matplotlib.figure.Figure at 0x7f128565dac8>"
      ]
     },
     "metadata": {},
     "output_type": "display_data"
    }
   ],
   "source": [
    "import matplotlib.pyplot as plt\n",
    "import numpy as np\n",
    "from sklearn import datasets, svm, metrics\n",
    "from sklearn.model_selection import train_test_split\n",
    "%matplotlib inline\n",
    "\n",
    "digits = datasets.load_digits()\n",
    "\n",
    "# The data that we are interested in is made of 8x8 images of digits, let's\n",
    "# have a look at the first 4 images, stored in the `images` attribute of the\n",
    "# dataset.  If we were working from image files, we could load them using\n",
    "# matplotlib.pyplot.imread.  Note that each image must have the same size.\n",
    "X = digits.images\n",
    "y = digits.target\n",
    "\n",
    "print(X.shape)\n",
    "print(y.shape)\n",
    "\n",
    "\n",
    "    \n",
    "# flattern images to feed in the classifier\n",
    "n_samples = len(digits.images)\n",
    "X = X.reshape(n_samples, -1)\n",
    "\n",
    "\n",
    "plt.figure(figsize=(16,12))\n",
    "for index, (image, label) in enumerate(zip(X[:8],y[:8])):\n",
    "    plt.subplot(4,4,index+1)\n",
    "    plt.axis('off')\n",
    "    plt.imshow(image.reshape(8,8))\n",
    "    #print(index)\n",
    "    plt.title('Training: %i' % label)  \n",
    "    \n",
    "    \n",
    "svmc = svm.SVC(C=10,gamma=0.001)\n",
    "\n",
    "X_train, X_test, y_train, y_test = train_test_split(\n",
    "                                X,y,test_size=0.33)\n",
    "\n",
    "svmc.fit(X_train,y_train)\n",
    "y_pred = svmc.predict(X_test)\n",
    "\n",
    "print('Classifier Report:\\n{0}\\n\\n{1}'.format(svmc, \n",
    "                                metrics.classification_report(y_test, y_pred)))\n",
    "print('Confusion matrix:\\n{}'.format(metrics.confusion_matrix(y_test, y_pred)))\n",
    "\n",
    "for index, (image, pred) in enumerate(zip(X_test[:8],y_pred[:8])):\n",
    "    plt.subplot(4,4,index+1+8)\n",
    "    plt.axis('off')\n",
    "    plt.imshow(image.reshape(8,8))\n",
    "    plt.title('Prediction: {}'.format(pred))\n",
    "\n",
    "print('Score:{}'.format(svmc.score(X_test, y_test)))"
   ]
  },
  {
   "cell_type": "code",
   "execution_count": 62,
   "metadata": {},
   "outputs": [
    {
     "name": "stdout",
     "output_type": "stream",
     "text": [
      "[7 6 3 1 5 9 4 9]\n"
     ]
    },
    {
     "data": {
      "image/png": "[encoded data removed]",
      "text/plain": [
       "<matplotlib.figure.Figure at 0x7f1284c3deb8>"
      ]
     },
     "metadata": {},
     "output_type": "display_data"
    }
   ],
   "source": [
    "index_wrong = y_test!=y_pred\n",
    "X_test[index_wrong].shape\n",
    "\n",
    "for index,image in enumerate(X_test[index_wrong]):\n",
    "    plt.subplot(3,3,index+1)\n",
    "    plt.imshow(image.reshape(8,8))\n",
    "    plt.axis('off')\n",
    "\n",
    "print(y_pred[index_wrong])"
   ]
  },
  {
   "cell_type": "code",
   "execution_count": 63,
   "metadata": {},
   "outputs": [
    {
     "data": {
      "text/plain": [
       "array([ 0.99591837,  0.98347107,  0.99170124,  0.9748954 ,  0.99576271])"
      ]
     },
     "execution_count": 63,
     "metadata": {},
     "output_type": "execute_result"
    }
   ],
   "source": [
    "from sklearn.model_selection import cross_val_score\n",
    "\n",
    "svmc2 = svm.SVC(C=10,gamma=0.001)\n",
    "scores = cross_val_score(svmc2, X_train, y_train, cv=5)\n",
    "scores"
   ]
  },
  {
   "cell_type": "code",
   "execution_count": 64,
   "metadata": {},
   "outputs": [
    {
     "name": "stdout",
     "output_type": "stream",
     "text": [
      "Accuracy: 0.99 (+/- 0.02)\n"
     ]
    }
   ],
   "source": [
    "print(\"Accuracy: %0.2f (+/- %0.2f)\" % (scores.mean(), scores.std() * 2))"
   ]
  },
  {
   "cell_type": "code",
   "execution_count": 65,
   "metadata": {},
   "outputs": [
    {
     "data": {
      "text/plain": [
       "0.9900249376558603"
      ]
     },
     "execution_count": 65,
     "metadata": {},
     "output_type": "execute_result"
    }
   ],
   "source": [
    "from sklearn.model_selection import cross_val_predict\n",
    "svmc3 = svm.SVC(C=10, gamma=0.001)\n",
    "pred = cross_val_predict(svmc3, X_train, y_train, cv=10)\n",
    "metrics.accuracy_score(y_train, pred)"
   ]
  },
  {
   "cell_type": "code",
   "execution_count": 56,
   "metadata": {},
   "outputs": [
    {
     "data": {
      "text/plain": [
       "array([[1, 2],\n",
       "       [3, 4],\n",
       "       [1, 2],\n",
       "       [3, 4]])"
      ]
     },
     "execution_count": 56,
     "metadata": {},
     "output_type": "execute_result"
    }
   ],
   "source": [
    "np.array([[1, 2], [3, 4], [1, 2], [3, 4]])"
   ]
  },
  {
   "cell_type": "code",
   "execution_count": 57,
   "metadata": {},
   "outputs": [
    {
     "data": {
      "text/plain": [
       "{'C': 1.0,\n",
       " 'cache_size': 200,\n",
       " 'class_weight': None,\n",
       " 'coef0': 0.0,\n",
       " 'decision_function_shape': 'ovr',\n",
       " 'degree': 3,\n",
       " 'gamma': 0.001,\n",
       " 'kernel': 'rbf',\n",
       " 'max_iter': -1,\n",
       " 'probability': False,\n",
       " 'random_state': None,\n",
       " 'shrinking': True,\n",
       " 'tol': 0.001,\n",
       " 'verbose': False}"
      ]
     },
     "execution_count": 57,
     "metadata": {},
     "output_type": "execute_result"
    }
   ],
   "source": [
    "svmc3.get_params()"
   ]
  },
  {
   "cell_type": "code",
   "execution_count": 67,
   "metadata": {},
   "outputs": [
    {
     "name": "stdout",
     "output_type": "stream",
     "text": [
      "{'C': 10, 'gamma': 0.001, 'kernel': 'rbf'}\n",
      "0.979 (+/-0.020) for {'C': 1, 'kernel': 'linear'}\n",
      "0.979 (+/-0.020) for {'C': 10, 'kernel': 'linear'}\n",
      "0.979 (+/-0.020) for {'C': 100, 'kernel': 'linear'}\n",
      "0.979 (+/-0.020) for {'C': 1000, 'kernel': 'linear'}\n",
      "0.990 (+/-0.021) for {'C': 1, 'gamma': 0.001, 'kernel': 'rbf'}\n",
      "0.969 (+/-0.034) for {'C': 1, 'gamma': 0.0001, 'kernel': 'rbf'}\n",
      "0.991 (+/-0.022) for {'C': 10, 'gamma': 0.001, 'kernel': 'rbf'}\n",
      "0.985 (+/-0.018) for {'C': 10, 'gamma': 0.0001, 'kernel': 'rbf'}\n",
      "0.991 (+/-0.022) for {'C': 100, 'gamma': 0.001, 'kernel': 'rbf'}\n",
      "0.985 (+/-0.020) for {'C': 100, 'gamma': 0.0001, 'kernel': 'rbf'}\n",
      "0.991 (+/-0.022) for {'C': 1000, 'gamma': 0.001, 'kernel': 'rbf'}\n",
      "0.985 (+/-0.020) for {'C': 1000, 'gamma': 0.0001, 'kernel': 'rbf'}\n",
      "             precision    recall  f1-score   support\n",
      "\n",
      "          0       1.00      0.98      0.99        60\n",
      "          1       0.98      1.00      0.99        59\n",
      "          2       1.00      1.00      1.00        61\n",
      "          3       0.98      0.96      0.97        53\n",
      "          4       0.98      1.00      0.99        64\n",
      "          5       0.98      0.96      0.97        53\n",
      "          6       0.98      1.00      0.99        60\n",
      "          7       0.98      1.00      0.99        60\n",
      "          8       1.00      0.97      0.98        65\n",
      "          9       0.97      0.98      0.97        59\n",
      "\n",
      "avg / total       0.99      0.99      0.99       594\n",
      "\n",
      "\n",
      "{'C': 10, 'gamma': 0.001, 'kernel': 'rbf'}\n",
      "0.976 (+/-0.021) for {'C': 1, 'kernel': 'linear'}\n",
      "0.976 (+/-0.021) for {'C': 10, 'kernel': 'linear'}\n",
      "0.976 (+/-0.021) for {'C': 100, 'kernel': 'linear'}\n",
      "0.976 (+/-0.021) for {'C': 1000, 'kernel': 'linear'}\n",
      "0.989 (+/-0.022) for {'C': 1, 'gamma': 0.001, 'kernel': 'rbf'}\n",
      "0.967 (+/-0.035) for {'C': 1, 'gamma': 0.0001, 'kernel': 'rbf'}\n",
      "0.990 (+/-0.023) for {'C': 10, 'gamma': 0.001, 'kernel': 'rbf'}\n",
      "0.983 (+/-0.020) for {'C': 10, 'gamma': 0.0001, 'kernel': 'rbf'}\n",
      "0.990 (+/-0.023) for {'C': 100, 'gamma': 0.001, 'kernel': 'rbf'}\n",
      "0.984 (+/-0.021) for {'C': 100, 'gamma': 0.0001, 'kernel': 'rbf'}\n",
      "0.990 (+/-0.023) for {'C': 1000, 'gamma': 0.001, 'kernel': 'rbf'}\n",
      "0.984 (+/-0.021) for {'C': 1000, 'gamma': 0.0001, 'kernel': 'rbf'}\n",
      "             precision    recall  f1-score   support\n",
      "\n",
      "          0       1.00      0.98      0.99        60\n",
      "          1       0.98      1.00      0.99        59\n",
      "          2       1.00      1.00      1.00        61\n",
      "          3       0.98      0.96      0.97        53\n",
      "          4       0.98      1.00      0.99        64\n",
      "          5       0.98      0.96      0.97        53\n",
      "          6       0.98      1.00      0.99        60\n",
      "          7       0.98      1.00      0.99        60\n",
      "          8       1.00      0.97      0.98        65\n",
      "          9       0.97      0.98      0.97        59\n",
      "\n",
      "avg / total       0.99      0.99      0.99       594\n",
      "\n",
      "\n"
     ]
    }
   ],
   "source": [
    "from sklearn.model_selection import GridSearchCV\n",
    "from sklearn.metrics import classification_report\n",
    "\n",
    "param_grid = [\n",
    "  {'C': [1, 10, 100, 1000], 'kernel': ['linear']},\n",
    "  {'C': [1, 10, 100, 1000], 'gamma': [0.001, 0.0001], 'kernel': ['rbf']},\n",
    " ]\n",
    "\n",
    "scores = ['precision','recall']\n",
    "for score in scores:\n",
    "    clf = GridSearchCV(svm.SVC(),param_grid,cv=10,\n",
    "                      scoring='{}_macro'.format(score))\n",
    "    clf.fit(X_train, y_train)\n",
    "    \n",
    "    print(clf.best_params_)\n",
    "    means = clf.cv_results_['mean_test_score']\n",
    "    stds = clf.cv_results_['std_test_score']\n",
    "    for mean, std, params in zip(means, stds, clf.cv_results_['params']):\n",
    "        print(\"%0.3f (+/-%0.03f) for %r\"\n",
    "              % (mean, std * 2, params))\n",
    "    y_true, y_pred = y_test, clf.predict(X_test)\n",
    "    print(classification_report(y_true, y_pred))\n",
    "    print()    \n",
    "    "
   ]
  },
  {
   "cell_type": "code",
   "execution_count": null,
   "metadata": {
    "collapsed": true
   },
   "outputs": [],
   "source": []
  },
  {
   "cell_type": "code",
   "execution_count": 68,
   "metadata": {},
   "outputs": [
    {
     "name": "stderr",
     "output_type": "stream",
     "text": [
      "Using TensorFlow backend.\n"
     ]
    },
    {
     "data": {
      "text/plain": [
       "(50000, 32, 32, 3)"
      ]
     },
     "execution_count": 68,
     "metadata": {},
     "output_type": "execute_result"
    }
   ],
   "source": [
    "from keras.datasets import cifar10\n",
    "(x_train, y_train), (x_test, y_test) = cifar10.load_data()\n",
    "x_train.shape"
   ]
  }
 ],
 "metadata": {
  "kernelspec": {
   "display_name": "Python 3",
   "language": "python",
   "name": "python3"
  },
  "language_info": {
   "codemirror_mode": {
    "name": "ipython",
    "version": 3
   },
   "file_extension": ".py",
   "mimetype": "text/x-python",
   "name": "python",
   "nbconvert_exporter": "python",
   "pygments_lexer": "ipython3",
   "version": "3.6.2"
  }
 },
 "nbformat": 4,
 "nbformat_minor": 2
}
