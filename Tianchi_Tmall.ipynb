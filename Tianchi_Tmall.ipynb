{
 "cells": [
  {
   "cell_type": "code",
   "execution_count": 5,
   "metadata": {
    "collapsed": false,
    "scrolled": true
   },
   "outputs": [
    {
     "data": {
      "text/html": [
       "<div>\n",
       "<table border=\"1\" class=\"dataframe\">\n",
       "  <thead>\n",
       "    <tr style=\"text-align: right;\">\n",
       "      <th></th>\n",
       "      <th>user_id</th>\n",
       "      <th>age_range</th>\n",
       "      <th>gender</th>\n",
       "      <th>merchant_id</th>\n",
       "      <th>label</th>\n",
       "      <th>activity_log</th>\n",
       "    </tr>\n",
       "  </thead>\n",
       "  <tbody>\n",
       "    <tr>\n",
       "      <th>0</th>\n",
       "      <td>34176</td>\n",
       "      <td>6.0</td>\n",
       "      <td>0.0</td>\n",
       "      <td>944</td>\n",
       "      <td>-1</td>\n",
       "      <td>408895:1505:7370:1107:0</td>\n",
       "    </tr>\n",
       "    <tr>\n",
       "      <th>1</th>\n",
       "      <td>34176</td>\n",
       "      <td>6.0</td>\n",
       "      <td>0.0</td>\n",
       "      <td>412</td>\n",
       "      <td>-1</td>\n",
       "      <td>17235:1604:4396:0818:0#954723:1604:4396:0818:0...</td>\n",
       "    </tr>\n",
       "    <tr>\n",
       "      <th>2</th>\n",
       "      <td>34176</td>\n",
       "      <td>6.0</td>\n",
       "      <td>0.0</td>\n",
       "      <td>1945</td>\n",
       "      <td>-1</td>\n",
       "      <td>231901:662:2758:0818:0#231901:662:2758:0818:0#...</td>\n",
       "    </tr>\n",
       "    <tr>\n",
       "      <th>3</th>\n",
       "      <td>34176</td>\n",
       "      <td>6.0</td>\n",
       "      <td>0.0</td>\n",
       "      <td>4752</td>\n",
       "      <td>-1</td>\n",
       "      <td>174142:821:6938:1027:0</td>\n",
       "    </tr>\n",
       "    <tr>\n",
       "      <th>4</th>\n",
       "      <td>34176</td>\n",
       "      <td>6.0</td>\n",
       "      <td>0.0</td>\n",
       "      <td>643</td>\n",
       "      <td>-1</td>\n",
       "      <td>716371:1505:968:1024:3</td>\n",
       "    </tr>\n",
       "  </tbody>\n",
       "</table>\n",
       "</div>"
      ],
      "text/plain": [
       "   user_id  age_range  gender  merchant_id  label  \\\n",
       "0    34176        6.0     0.0          944     -1   \n",
       "1    34176        6.0     0.0          412     -1   \n",
       "2    34176        6.0     0.0         1945     -1   \n",
       "3    34176        6.0     0.0         4752     -1   \n",
       "4    34176        6.0     0.0          643     -1   \n",
       "\n",
       "                                        activity_log  \n",
       "0                            408895:1505:7370:1107:0  \n",
       "1  17235:1604:4396:0818:0#954723:1604:4396:0818:0...  \n",
       "2  231901:662:2758:0818:0#231901:662:2758:0818:0#...  \n",
       "3                             174142:821:6938:1027:0  \n",
       "4                             716371:1505:968:1024:3  "
      ]
     },
     "execution_count": 5,
     "metadata": {},
     "output_type": "execute_result"
    }
   ],
   "source": [
    "import pandas as pd\n",
    "import numpy as np\n",
    "import matplotlib.pyplot as plt\n",
    "data_train = pd.read_csv(r\"C:\\Laury\\Tianchi_Tmall\\data_format2\\train_format2.csv\")\n",
    "data_train.head()\n",
    "#User' s age range: 1 for <18;     2 for [18,24]; 3 for [25,29]; 4 for [30,34]; \n",
    "#                   5 for [35,39]; 6 for [40,49]; 7 and 8 for >= 50;\n",
    "#0 and NULL for unknown.\n",
    "# activity_log\n",
    "#Set of interaction records between {user_id, merchant_id}, \n",
    "#where each record is an action represented as \n",
    "#' item_id:category_id:brand_id:time_stamp:action_type' . ' #' is used to separate two neighbouring elements. \n",
    "#Records are not sorted in any particular order."
   ]
  },
  {
   "cell_type": "code",
   "execution_count": 6,
   "metadata": {
    "collapsed": false
   },
   "outputs": [
    {
     "data": {
      "text/html": [
       "<div>\n",
       "<table border=\"1\" class=\"dataframe\">\n",
       "  <thead>\n",
       "    <tr style=\"text-align: right;\">\n",
       "      <th></th>\n",
       "      <th>user_id</th>\n",
       "      <th>age_range</th>\n",
       "      <th>gender</th>\n",
       "      <th>merchant_id</th>\n",
       "      <th>label</th>\n",
       "      <th>activity_log</th>\n",
       "    </tr>\n",
       "  </thead>\n",
       "  <tbody>\n",
       "    <tr>\n",
       "      <th>998608</th>\n",
       "      <td>293613</td>\n",
       "      <td>5.0</td>\n",
       "      <td>0.0</td>\n",
       "      <td>777</td>\n",
       "      <td>-1</td>\n",
       "      <td>139471:247:1153:0820:0</td>\n",
       "    </tr>\n",
       "    <tr>\n",
       "      <th>2382167</th>\n",
       "      <td>279172</td>\n",
       "      <td>3.0</td>\n",
       "      <td>0.0</td>\n",
       "      <td>4143</td>\n",
       "      <td>-1</td>\n",
       "      <td>665615:662:4594:0520:0</td>\n",
       "    </tr>\n",
       "    <tr>\n",
       "      <th>67901</th>\n",
       "      <td>135303</td>\n",
       "      <td>5.0</td>\n",
       "      <td>1.0</td>\n",
       "      <td>3716</td>\n",
       "      <td>-1</td>\n",
       "      <td>427140:898:7995:1110:0#39359:898:7995:1110:3#3...</td>\n",
       "    </tr>\n",
       "    <tr>\n",
       "      <th>5947254</th>\n",
       "      <td>109322</td>\n",
       "      <td>3.0</td>\n",
       "      <td>0.0</td>\n",
       "      <td>1304</td>\n",
       "      <td>-1</td>\n",
       "      <td>1046717:1213:2276:0619:0</td>\n",
       "    </tr>\n",
       "    <tr>\n",
       "      <th>1890284</th>\n",
       "      <td>296271</td>\n",
       "      <td>0.0</td>\n",
       "      <td>0.0</td>\n",
       "      <td>3844</td>\n",
       "      <td>-1</td>\n",
       "      <td>265468:993:5054:1106:0</td>\n",
       "    </tr>\n",
       "  </tbody>\n",
       "</table>\n",
       "</div>"
      ],
      "text/plain": [
       "         user_id  age_range  gender  merchant_id  label  \\\n",
       "998608    293613        5.0     0.0          777     -1   \n",
       "2382167   279172        3.0     0.0         4143     -1   \n",
       "67901     135303        5.0     1.0         3716     -1   \n",
       "5947254   109322        3.0     0.0         1304     -1   \n",
       "1890284   296271        0.0     0.0         3844     -1   \n",
       "\n",
       "                                              activity_log  \n",
       "998608                              139471:247:1153:0820:0  \n",
       "2382167                             665615:662:4594:0520:0  \n",
       "67901    427140:898:7995:1110:0#39359:898:7995:1110:3#3...  \n",
       "5947254                           1046717:1213:2276:0619:0  \n",
       "1890284                             265468:993:5054:1106:0  "
      ]
     },
     "execution_count": 6,
     "metadata": {},
     "output_type": "execute_result"
    }
   ],
   "source": [
    "from sklearn.utils import shuffle\n",
    "data_train = shuffle(data_train)\n",
    "data_train.head()"
   ]
  },
  {
   "cell_type": "code",
   "execution_count": 7,
   "metadata": {
    "collapsed": true
   },
   "outputs": [],
   "source": [
    "import numpy as np\n",
    "import matplotlib.pyplot as plt\n",
    "from sklearn.model_selection import learning_curve\n",
    "from sklearn.model_selection import ShuffleSplit\n",
    "\n",
    "\n",
    "def plot_learning_curve(estimator, title, X, y, ylim=None, cv=None,\n",
    "                        n_jobs=1, train_sizes=np.linspace(.1, 1.0, 5)):\n",
    "    \"\"\"\n",
    "    Generate a simple plot of the test and training learning curve.\n",
    "\n",
    "    Parameters\n",
    "    ----------\n",
    "    estimator : object type that implements the \"fit\" and \"predict\" methods\n",
    "        An object of that type which is cloned for each validation.\n",
    "\n",
    "    title : string\n",
    "        Title for the chart.\n",
    "\n",
    "    X : array-like, shape (n_samples, n_features)\n",
    "        Training vector, where n_samples is the number of samples and\n",
    "        n_features is the number of features.\n",
    "\n",
    "    y : array-like, shape (n_samples) or (n_samples, n_features), optional\n",
    "        Target relative to X for classification or regression;\n",
    "        None for unsupervised learning.\n",
    "\n",
    "    ylim : tuple, shape (ymin, ymax), optional\n",
    "        Defines minimum and maximum yvalues plotted.\n",
    "\n",
    "    cv : int, cross-validation generator or an iterable, optional\n",
    "        Determines the cross-validation splitting strategy.\n",
    "        Possible inputs for cv are:\n",
    "          - None, to use the default 3-fold cross-validation,\n",
    "          - integer, to specify the number of folds.\n",
    "          - An object to be used as a cross-validation generator.\n",
    "          - An iterable yielding train/test splits.\n",
    "\n",
    "        For integer/None inputs, if ``y`` is binary or multiclass,\n",
    "        :class:`StratifiedKFold` used. If the estimator is not a classifier\n",
    "        or if ``y`` is neither binary nor multiclass, :class:`KFold` is used.\n",
    "\n",
    "        Refer :ref:`User Guide <cross_validation>` for the various\n",
    "        cross-validators that can be used here.\n",
    "\n",
    "    n_jobs : integer, optional\n",
    "        Number of jobs to run in parallel (default 1).\n",
    "    \"\"\"\n",
    "    plt.figure()\n",
    "    plt.title(title)\n",
    "    if ylim is not None:\n",
    "        plt.ylim(*ylim)\n",
    "    plt.xlabel(\"Training examples\")\n",
    "    plt.ylabel(\"Score\")\n",
    "    train_sizes, train_scores, test_scores = learning_curve(\n",
    "        estimator, X, y, cv=cv, n_jobs=n_jobs, train_sizes=train_sizes)\n",
    "    train_scores_mean = np.mean(train_scores, axis=1)\n",
    "    train_scores_std = np.std(train_scores, axis=1)\n",
    "    test_scores_mean = np.mean(test_scores, axis=1)\n",
    "    test_scores_std = np.std(test_scores, axis=1)\n",
    "    plt.grid()\n",
    "\n",
    "    plt.fill_between(train_sizes, train_scores_mean - train_scores_std,\n",
    "                     train_scores_mean + train_scores_std, alpha=0.1,\n",
    "                     color=\"r\")\n",
    "    plt.fill_between(train_sizes, test_scores_mean - test_scores_std,\n",
    "                     test_scores_mean + test_scores_std, alpha=0.1, color=\"g\")\n",
    "    plt.plot(train_sizes, train_scores_mean, 'o-', color=\"r\",\n",
    "             label=\"Training score\")\n",
    "    plt.plot(train_sizes, test_scores_mean, 'o-', color=\"g\",\n",
    "             label=\"Cross-validation score\")\n",
    "\n",
    "    plt.legend(loc=\"best\")\n",
    "    return plt"
   ]
  },
  {
   "cell_type": "code",
   "execution_count": 8,
   "metadata": {
    "collapsed": false
   },
   "outputs": [
    {
     "name": "stdout",
     "output_type": "stream",
     "text": [
      "(0, 6)\n"
     ]
    },
    {
     "data": {
      "text/html": [
       "<div>\n",
       "<table border=\"1\" class=\"dataframe\">\n",
       "  <thead>\n",
       "    <tr style=\"text-align: right;\">\n",
       "      <th></th>\n",
       "      <th>user_id</th>\n",
       "      <th>age_range</th>\n",
       "      <th>gender</th>\n",
       "      <th>merchant_id</th>\n",
       "      <th>label</th>\n",
       "      <th>activity_log</th>\n",
       "    </tr>\n",
       "  </thead>\n",
       "  <tbody>\n",
       "    <tr>\n",
       "      <th>2347023</th>\n",
       "      <td>219520</td>\n",
       "      <td>4.0</td>\n",
       "      <td>0.0</td>\n",
       "      <td>3152</td>\n",
       "      <td>0</td>\n",
       "      <td>493761:1075:4620:1111:2#493761:1075:4620:0925:0</td>\n",
       "    </tr>\n",
       "    <tr>\n",
       "      <th>4581123</th>\n",
       "      <td>13429</td>\n",
       "      <td>4.0</td>\n",
       "      <td>2.0</td>\n",
       "      <td>1891</td>\n",
       "      <td>0</td>\n",
       "      <td>480492:503:4537:1110:0#480492:503:4537:1111:0#...</td>\n",
       "    </tr>\n",
       "    <tr>\n",
       "      <th>3195462</th>\n",
       "      <td>75997</td>\n",
       "      <td>0.0</td>\n",
       "      <td>1.0</td>\n",
       "      <td>1556</td>\n",
       "      <td>0</td>\n",
       "      <td>238804:656:5728:1111:0#238804:656:5728:1111:2#...</td>\n",
       "    </tr>\n",
       "    <tr>\n",
       "      <th>2806147</th>\n",
       "      <td>145330</td>\n",
       "      <td>3.0</td>\n",
       "      <td>0.0</td>\n",
       "      <td>588</td>\n",
       "      <td>0</td>\n",
       "      <td>952198:1441:1878:1111:0#952198:1441:1878:1111:...</td>\n",
       "    </tr>\n",
       "    <tr>\n",
       "      <th>862631</th>\n",
       "      <td>290526</td>\n",
       "      <td>3.0</td>\n",
       "      <td>0.0</td>\n",
       "      <td>3828</td>\n",
       "      <td>1</td>\n",
       "      <td>1045355:1142:1446:1106:3#764743:1553:1446:1106...</td>\n",
       "    </tr>\n",
       "  </tbody>\n",
       "</table>\n",
       "</div>"
      ],
      "text/plain": [
       "         user_id  age_range  gender  merchant_id  label  \\\n",
       "2347023   219520        4.0     0.0         3152      0   \n",
       "4581123    13429        4.0     2.0         1891      0   \n",
       "3195462    75997        0.0     1.0         1556      0   \n",
       "2806147   145330        3.0     0.0          588      0   \n",
       "862631    290526        3.0     0.0         3828      1   \n",
       "\n",
       "                                              activity_log  \n",
       "2347023    493761:1075:4620:1111:2#493761:1075:4620:0925:0  \n",
       "4581123  480492:503:4537:1110:0#480492:503:4537:1111:0#...  \n",
       "3195462  238804:656:5728:1111:0#238804:656:5728:1111:2#...  \n",
       "2806147  952198:1441:1878:1111:0#952198:1441:1878:1111:...  \n",
       "862631   1045355:1142:1446:1106:3#764743:1553:1446:1106...  "
      ]
     },
     "execution_count": 8,
     "metadata": {},
     "output_type": "execute_result"
    }
   ],
   "source": [
    "data_train = data_train[data_train.label != -1]\n",
    "print(data_train[data_train.label.isnull().values==True].shape)\n",
    "data_train.head()"
   ]
  },
  {
   "cell_type": "code",
   "execution_count": 9,
   "metadata": {
    "collapsed": false
   },
   "outputs": [
    {
     "name": "stderr",
     "output_type": "stream",
     "text": [
      "C:\\ProgramData\\Anaconda3\\lib\\site-packages\\ipykernel\\__main__.py:2: UserWarning: Boolean Series key will be reindexed to match DataFrame index.\n",
      "  from ipykernel import kernelapp as app\n"
     ]
    },
    {
     "data": {
      "text/html": [
       "<div>\n",
       "<table border=\"1\" class=\"dataframe\">\n",
       "  <thead>\n",
       "    <tr style=\"text-align: right;\">\n",
       "      <th></th>\n",
       "      <th>user_id</th>\n",
       "      <th>age_range</th>\n",
       "      <th>gender</th>\n",
       "      <th>merchant_id</th>\n",
       "      <th>label</th>\n",
       "      <th>activity_log</th>\n",
       "    </tr>\n",
       "  </thead>\n",
       "  <tbody>\n",
       "  </tbody>\n",
       "</table>\n",
       "</div>"
      ],
      "text/plain": [
       "Empty DataFrame\n",
       "Columns: [user_id, age_range, gender, merchant_id, label, activity_log]\n",
       "Index: []"
      ]
     },
     "execution_count": 9,
     "metadata": {},
     "output_type": "execute_result"
    }
   ],
   "source": [
    "data_train = data_train.dropna() # del NaN\n",
    "data_train = data_train[data_train.age_range!=0][data_train.gender!=0]\n",
    "data_train[data_train.isnull().values==True]"
   ]
  },
  {
   "cell_type": "code",
   "execution_count": 10,
   "metadata": {
    "collapsed": false
   },
   "outputs": [
    {
     "data": {
      "text/html": [
       "<div>\n",
       "<table border=\"1\" class=\"dataframe\">\n",
       "  <thead>\n",
       "    <tr style=\"text-align: right;\">\n",
       "      <th></th>\n",
       "      <th>user_id</th>\n",
       "      <th>merchant_id</th>\n",
       "      <th>label</th>\n",
       "      <th>activity_log</th>\n",
       "      <th>age_1.0</th>\n",
       "      <th>age_2.0</th>\n",
       "      <th>age_3.0</th>\n",
       "      <th>age_4.0</th>\n",
       "      <th>age_5.0</th>\n",
       "      <th>age_6.0</th>\n",
       "      <th>age_7.0</th>\n",
       "      <th>age_8.0</th>\n",
       "      <th>gender_1.0</th>\n",
       "      <th>gender_2.0</th>\n",
       "    </tr>\n",
       "  </thead>\n",
       "  <tbody>\n",
       "    <tr>\n",
       "      <th>4581123</th>\n",
       "      <td>13429</td>\n",
       "      <td>1891</td>\n",
       "      <td>0</td>\n",
       "      <td>480492:503:4537:1110:0#480492:503:4537:1111:0#...</td>\n",
       "      <td>0</td>\n",
       "      <td>0</td>\n",
       "      <td>0</td>\n",
       "      <td>1</td>\n",
       "      <td>0</td>\n",
       "      <td>0</td>\n",
       "      <td>0</td>\n",
       "      <td>0</td>\n",
       "      <td>0</td>\n",
       "      <td>1</td>\n",
       "    </tr>\n",
       "    <tr>\n",
       "      <th>1531422</th>\n",
       "      <td>168744</td>\n",
       "      <td>1203</td>\n",
       "      <td>0</td>\n",
       "      <td>1040027:1028:2652:1111:0#1040027:1028:2652:111...</td>\n",
       "      <td>0</td>\n",
       "      <td>0</td>\n",
       "      <td>0</td>\n",
       "      <td>0</td>\n",
       "      <td>1</td>\n",
       "      <td>0</td>\n",
       "      <td>0</td>\n",
       "      <td>0</td>\n",
       "      <td>1</td>\n",
       "      <td>0</td>\n",
       "    </tr>\n",
       "    <tr>\n",
       "      <th>2760526</th>\n",
       "      <td>143533</td>\n",
       "      <td>4554</td>\n",
       "      <td>0</td>\n",
       "      <td>596642:1075:136:1111:2#596642:1075:136:1111:0</td>\n",
       "      <td>0</td>\n",
       "      <td>0</td>\n",
       "      <td>1</td>\n",
       "      <td>0</td>\n",
       "      <td>0</td>\n",
       "      <td>0</td>\n",
       "      <td>0</td>\n",
       "      <td>0</td>\n",
       "      <td>1</td>\n",
       "      <td>0</td>\n",
       "    </tr>\n",
       "    <tr>\n",
       "      <th>5133155</th>\n",
       "      <td>391346</td>\n",
       "      <td>2954</td>\n",
       "      <td>0</td>\n",
       "      <td>545920:610:1847:1111:2#545920:610:1847:1111:2</td>\n",
       "      <td>0</td>\n",
       "      <td>0</td>\n",
       "      <td>1</td>\n",
       "      <td>0</td>\n",
       "      <td>0</td>\n",
       "      <td>0</td>\n",
       "      <td>0</td>\n",
       "      <td>0</td>\n",
       "      <td>1</td>\n",
       "      <td>0</td>\n",
       "    </tr>\n",
       "    <tr>\n",
       "      <th>928855</th>\n",
       "      <td>121830</td>\n",
       "      <td>1132</td>\n",
       "      <td>0</td>\n",
       "      <td>757598:1046:4129:1111:0#757598:1046:4129:1111:...</td>\n",
       "      <td>0</td>\n",
       "      <td>0</td>\n",
       "      <td>0</td>\n",
       "      <td>0</td>\n",
       "      <td>0</td>\n",
       "      <td>0</td>\n",
       "      <td>1</td>\n",
       "      <td>0</td>\n",
       "      <td>1</td>\n",
       "      <td>0</td>\n",
       "    </tr>\n",
       "  </tbody>\n",
       "</table>\n",
       "</div>"
      ],
      "text/plain": [
       "         user_id  merchant_id  label  \\\n",
       "4581123    13429         1891      0   \n",
       "1531422   168744         1203      0   \n",
       "2760526   143533         4554      0   \n",
       "5133155   391346         2954      0   \n",
       "928855    121830         1132      0   \n",
       "\n",
       "                                              activity_log  age_1.0  age_2.0  \\\n",
       "4581123  480492:503:4537:1110:0#480492:503:4537:1111:0#...        0        0   \n",
       "1531422  1040027:1028:2652:1111:0#1040027:1028:2652:111...        0        0   \n",
       "2760526      596642:1075:136:1111:2#596642:1075:136:1111:0        0        0   \n",
       "5133155      545920:610:1847:1111:2#545920:610:1847:1111:2        0        0   \n",
       "928855   757598:1046:4129:1111:0#757598:1046:4129:1111:...        0        0   \n",
       "\n",
       "         age_3.0  age_4.0  age_5.0  age_6.0  age_7.0  age_8.0  gender_1.0  \\\n",
       "4581123        0        1        0        0        0        0           0   \n",
       "1531422        0        0        1        0        0        0           1   \n",
       "2760526        1        0        0        0        0        0           1   \n",
       "5133155        1        0        0        0        0        0           1   \n",
       "928855         0        0        0        0        1        0           1   \n",
       "\n",
       "         gender_2.0  \n",
       "4581123           1  \n",
       "1531422           0  \n",
       "2760526           0  \n",
       "5133155           0  \n",
       "928855            0  "
      ]
     },
     "execution_count": 10,
     "metadata": {},
     "output_type": "execute_result"
    }
   ],
   "source": [
    "dummies_Age = pd.get_dummies(data_train['age_range'], prefix= 'age')\n",
    "dummies_Gender = pd.get_dummies(data_train['gender'], prefix= 'gender')\n",
    "df = pd.concat([data_train, dummies_Age, dummies_Gender], axis=1)\n",
    "df.drop(['age_range','gender'], axis=1, inplace=True)\n",
    "df.head()"
   ]
  },
  {
   "cell_type": "code",
   "execution_count": 11,
   "metadata": {
    "collapsed": false
   },
   "outputs": [
    {
     "data": {
      "text/plain": [
       "2"
      ]
     },
     "execution_count": 11,
     "metadata": {},
     "output_type": "execute_result"
    }
   ],
   "source": [
    "df['age_1.0'].sum()"
   ]
  },
  {
   "cell_type": "code",
   "execution_count": 19,
   "metadata": {
    "collapsed": false
   },
   "outputs": [
    {
     "data": {
      "text/plain": [
       "LogisticRegression(C=1.0, class_weight=None, dual=False, fit_intercept=True,\n",
       "          intercept_scaling=1, max_iter=100, multi_class='ovr', n_jobs=1,\n",
       "          penalty='l2', random_state=None, solver='sag', tol=1e-06,\n",
       "          verbose=0, warm_start=False)"
      ]
     },
     "execution_count": 19,
     "metadata": {},
     "output_type": "execute_result"
    }
   ],
   "source": [
    "from sklearn import linear_model\n",
    "from sklearn.model_selection import train_test_split\n",
    "\n",
    "# 用正则取出我们要的属性值\n",
    "train_df = df.filter(regex='label|age_.*|gender_.*')\n",
    "train_np = train_df.as_matrix()\n",
    "\n",
    "# y即Survival结果\n",
    "y = train_np[:, 0]\n",
    "\n",
    "# X即特征属性值\n",
    "X = train_np[:, 1:]\n",
    "\n",
    "X_train, X_test, y_train, y_test = train_test_split(X, y, test_size=0.33, random_state=42)\n",
    "\n",
    "\n",
    "# fit到RandomForestRegressor之中\n",
    "clf = linear_model.LogisticRegression(C=1.0, penalty='l2', tol=1e-6, solver='sag')\n",
    "clf.fit(X_train, y_train)\n",
    "\n",
    "clf"
   ]
  },
  {
   "cell_type": "code",
   "execution_count": 37,
   "metadata": {
    "collapsed": false
   },
   "outputs": [
    {
     "name": "stdout",
     "output_type": "stream",
     "text": [
      "0.942859746651\n"
     ]
    },
    {
     "data": {
      "image/png": "[encoded data removed]",
      "text/plain": [
       "<matplotlib.figure.Figure at 0x1ec21501ef0>"
      ]
     },
     "metadata": {},
     "output_type": "display_data"
    },
    {
     "name": "stdout",
     "output_type": "stream",
     "text": [
      "[0 0 0 ..., 0 0 0]\n"
     ]
    },
    {
     "data": {
      "text/plain": [
       "1254"
      ]
     },
     "execution_count": 37,
     "metadata": {},
     "output_type": "execute_result"
    }
   ],
   "source": [
    "from sklearn.metrics import accuracy_score\n",
    "y_pred = clf.predict(X_test)\n",
    "\n",
    "ss = accuracy_score(y_test, y_pred)\n",
    "print(ss)\n",
    "plt.clf()\n",
    "plt.plot(list(range(len(y_pred-y_test))),y_pred-y_test)\n",
    "plt.show()\n",
    "X_test.shape\n",
    "print(y_pred)\n",
    "y_test.sum()\n"
   ]
  },
  {
   "cell_type": "code",
   "execution_count": 38,
   "metadata": {
    "collapsed": false
   },
   "outputs": [
    {
     "data": {
      "image/png": "[encoded data removed]",
      "text/plain": [
       "<matplotlib.figure.Figure at 0x1ec1bb84d30>"
      ]
     },
     "metadata": {},
     "output_type": "display_data"
    }
   ],
   "source": [
    "title = \"Learning Curves (LogisticRegression)\"\n",
    "# Cross validation with 100 iterations to get smoother mean test and train\n",
    "# score curves, each time with 20% data randomly selected as a validation set.\n",
    "cv = ShuffleSplit(n_splits=100, test_size=0.2, random_state=0)\n",
    "\n",
    "estimator = linear_model.LogisticRegression()\n",
    "plot_learning_curve(estimator, title, X_train, y_train, ylim=(0.7, 1.01), cv=cv, n_jobs=-1)\n",
    "plt.show()"
   ]
  },
  {
   "cell_type": "code",
   "execution_count": 39,
   "metadata": {
    "collapsed": false
   },
   "outputs": [
    {
     "data": {
      "image/png": "[encoded data removed]",
      "text/plain": [
       "<matplotlib.figure.Figure at 0x1ec1c6c3358>"
      ]
     },
     "metadata": {},
     "output_type": "display_data"
    }
   ],
   "source": [
    "import matplotlib.pyplot as plt\n",
    "import numpy as np\n",
    "\n",
    "from sklearn.model_selection import validation_curve\n",
    "\n",
    "param_range = np.linspace(0.1, 1, 5)\n",
    "train_scores, test_scores = validation_curve(\n",
    "    linear_model.LogisticRegression(), X_train, y_train, param_name=\"C\", param_range=param_range,\n",
    "    cv=10, scoring=\"accuracy\", n_jobs=1)\n",
    "train_scores_mean = np.mean(train_scores, axis=1)\n",
    "train_scores_std = np.std(train_scores, axis=1)\n",
    "test_scores_mean = np.mean(test_scores, axis=1)\n",
    "test_scores_std = np.std(test_scores, axis=1)\n",
    "\n",
    "plt.title(\"Validation Curve with LogisticRegression\")\n",
    "plt.xlabel(\"$\\gamma$\")\n",
    "plt.ylabel(\"Score\")\n",
    "plt.ylim(0.0, 1.1)\n",
    "lw = 2\n",
    "plt.semilogx(param_range, train_scores_mean, label=\"Training score\",\n",
    "             color=\"darkorange\", lw=lw)\n",
    "plt.fill_between(param_range, train_scores_mean - train_scores_std,\n",
    "                 train_scores_mean + train_scores_std, alpha=0.2,\n",
    "                 color=\"darkorange\", lw=lw)\n",
    "plt.semilogx(param_range, test_scores_mean, label=\"Cross-validation score\",\n",
    "             color=\"navy\", lw=lw)\n",
    "plt.fill_between(param_range, test_scores_mean - test_scores_std,\n",
    "                 test_scores_mean + test_scores_std, alpha=0.2,\n",
    "                 color=\"navy\", lw=lw)\n",
    "plt.legend(loc=\"best\")\n",
    "plt.show()"
   ]
  },
  {
   "cell_type": "code",
   "execution_count": 40,
   "metadata": {
    "collapsed": false
   },
   "outputs": [],
   "source": [
    "data_test = pd.read_csv(r\"C:\\Laury\\Tianchi_Tmall\\data_format2\\test_format2.csv\")"
   ]
  },
  {
   "cell_type": "code",
   "execution_count": 41,
   "metadata": {
    "collapsed": false,
    "scrolled": false
   },
   "outputs": [
    {
     "name": "stderr",
     "output_type": "stream",
     "text": [
      "C:\\ProgramData\\Anaconda3\\lib\\site-packages\\ipykernel\\__main__.py:1: UserWarning: Boolean Series key will be reindexed to match DataFrame index.\n",
      "  if __name__ == '__main__':\n"
     ]
    },
    {
     "data": {
      "text/html": [
       "<div>\n",
       "<table border=\"1\" class=\"dataframe\">\n",
       "  <thead>\n",
       "    <tr style=\"text-align: right;\">\n",
       "      <th></th>\n",
       "      <th>user_id</th>\n",
       "      <th>merchant_id</th>\n",
       "      <th>label</th>\n",
       "      <th>activity_log</th>\n",
       "      <th>age_1.0</th>\n",
       "      <th>age_2.0</th>\n",
       "      <th>age_3.0</th>\n",
       "      <th>age_4.0</th>\n",
       "      <th>age_5.0</th>\n",
       "      <th>age_6.0</th>\n",
       "      <th>age_7.0</th>\n",
       "      <th>age_8.0</th>\n",
       "      <th>gender_1.0</th>\n",
       "      <th>gender_2.0</th>\n",
       "    </tr>\n",
       "  </thead>\n",
       "  <tbody>\n",
       "    <tr>\n",
       "      <th>53</th>\n",
       "      <td>360576</td>\n",
       "      <td>1581</td>\n",
       "      <td>NaN</td>\n",
       "      <td>948181:614:4066:1111:2#1111020:614:4066:1111:2...</td>\n",
       "      <td>0</td>\n",
       "      <td>1</td>\n",
       "      <td>0</td>\n",
       "      <td>0</td>\n",
       "      <td>0</td>\n",
       "      <td>0</td>\n",
       "      <td>0</td>\n",
       "      <td>0</td>\n",
       "      <td>0</td>\n",
       "      <td>1</td>\n",
       "    </tr>\n",
       "    <tr>\n",
       "      <th>134</th>\n",
       "      <td>295296</td>\n",
       "      <td>3361</td>\n",
       "      <td>NaN</td>\n",
       "      <td>521280:1118:487:1111:0#521280:1118:487:1111:0#...</td>\n",
       "      <td>0</td>\n",
       "      <td>1</td>\n",
       "      <td>0</td>\n",
       "      <td>0</td>\n",
       "      <td>0</td>\n",
       "      <td>0</td>\n",
       "      <td>0</td>\n",
       "      <td>0</td>\n",
       "      <td>1</td>\n",
       "      <td>0</td>\n",
       "    </tr>\n",
       "    <tr>\n",
       "      <th>228</th>\n",
       "      <td>230016</td>\n",
       "      <td>1742</td>\n",
       "      <td>NaN</td>\n",
       "      <td>962700:464:7885:1111:2#144958:464:7885:1111:0#...</td>\n",
       "      <td>0</td>\n",
       "      <td>0</td>\n",
       "      <td>0</td>\n",
       "      <td>0</td>\n",
       "      <td>1</td>\n",
       "      <td>0</td>\n",
       "      <td>0</td>\n",
       "      <td>0</td>\n",
       "      <td>1</td>\n",
       "      <td>0</td>\n",
       "    </tr>\n",
       "    <tr>\n",
       "      <th>242</th>\n",
       "      <td>164736</td>\n",
       "      <td>598</td>\n",
       "      <td>NaN</td>\n",
       "      <td>974463:1188:6983:1111:2#974463:1188:8351:1111:0</td>\n",
       "      <td>0</td>\n",
       "      <td>0</td>\n",
       "      <td>1</td>\n",
       "      <td>0</td>\n",
       "      <td>0</td>\n",
       "      <td>0</td>\n",
       "      <td>0</td>\n",
       "      <td>0</td>\n",
       "      <td>1</td>\n",
       "      <td>0</td>\n",
       "    </tr>\n",
       "    <tr>\n",
       "      <th>243</th>\n",
       "      <td>164736</td>\n",
       "      <td>1963</td>\n",
       "      <td>NaN</td>\n",
       "      <td>647834:1023:6109:1111:2#647834:1023:6109:1111:...</td>\n",
       "      <td>0</td>\n",
       "      <td>0</td>\n",
       "      <td>1</td>\n",
       "      <td>0</td>\n",
       "      <td>0</td>\n",
       "      <td>0</td>\n",
       "      <td>0</td>\n",
       "      <td>0</td>\n",
       "      <td>1</td>\n",
       "      <td>0</td>\n",
       "    </tr>\n",
       "  </tbody>\n",
       "</table>\n",
       "</div>"
      ],
      "text/plain": [
       "     user_id  merchant_id  label  \\\n",
       "53    360576         1581    NaN   \n",
       "134   295296         3361    NaN   \n",
       "228   230016         1742    NaN   \n",
       "242   164736          598    NaN   \n",
       "243   164736         1963    NaN   \n",
       "\n",
       "                                          activity_log  age_1.0  age_2.0  \\\n",
       "53   948181:614:4066:1111:2#1111020:614:4066:1111:2...        0        1   \n",
       "134  521280:1118:487:1111:0#521280:1118:487:1111:0#...        0        1   \n",
       "228  962700:464:7885:1111:2#144958:464:7885:1111:0#...        0        0   \n",
       "242    974463:1188:6983:1111:2#974463:1188:8351:1111:0        0        0   \n",
       "243  647834:1023:6109:1111:2#647834:1023:6109:1111:...        0        0   \n",
       "\n",
       "     age_3.0  age_4.0  age_5.0  age_6.0  age_7.0  age_8.0  gender_1.0  \\\n",
       "53         0        0        0        0        0        0           0   \n",
       "134        0        0        0        0        0        0           1   \n",
       "228        0        0        1        0        0        0           1   \n",
       "242        1        0        0        0        0        0           1   \n",
       "243        1        0        0        0        0        0           1   \n",
       "\n",
       "     gender_2.0  \n",
       "53            1  \n",
       "134           0  \n",
       "228           0  \n",
       "242           0  \n",
       "243           0  "
      ]
     },
     "execution_count": 41,
     "metadata": {},
     "output_type": "execute_result"
    }
   ],
   "source": [
    "data_test = data_test[data_test.label!=-1.0][data_test.age_range!=0][data_test.gender!=0]\n",
    "dummies_Age = pd.get_dummies(data_test['age_range'], prefix= 'age')\n",
    "dummies_Gender = pd.get_dummies(data_test['gender'], prefix= 'gender')\n",
    "df_test = pd.concat([data_test, dummies_Age, dummies_Gender], axis=1)\n",
    "df_test.drop(['age_range','gender'], axis=1, inplace=True)\n",
    "df_test.head()"
   ]
  },
  {
   "cell_type": "code",
   "execution_count": null,
   "metadata": {
    "collapsed": false
   },
   "outputs": [],
   "source": [
    "#age1 = np.zeros((len(df_test['age_2.0']),1))\n",
    "#df_test.insert(4,'age_1.0',age1)\n",
    "#df_test.head()"
   ]
  },
  {
   "cell_type": "code",
   "execution_count": 43,
   "metadata": {
    "collapsed": false
   },
   "outputs": [],
   "source": [
    "test = df_test.filter(regex='age_.*|gender_.*')\n",
    "predictions = clf.predict(test)\n",
    "\n",
    "result = pd.DataFrame({'userid':data_test['user_id'].as_matrix(), 'merchant_id':data_test['merchant_id'].as_matrix(), 'label':predictions.astype(np.int32)})\n",
    "result.to_csv(r\"C:\\Laury\\Tianchi_Tmall\\data_format2\\logistic_regression_predictions.csv\", index=False)"
   ]
  },
  {
   "cell_type": "code",
   "execution_count": 46,
   "metadata": {
    "collapsed": false
   },
   "outputs": [
    {
     "name": "stdout",
     "output_type": "stream",
     "text": [
      "count    69590.0\n",
      "mean         0.0\n",
      "std          0.0\n",
      "min          0.0\n",
      "25%          0.0\n",
      "50%          0.0\n",
      "75%          0.0\n",
      "max          0.0\n",
      "Name: label, dtype: float64\n"
     ]
    },
    {
     "data": {
      "text/plain": [
       "array([0])"
      ]
     },
     "execution_count": 46,
     "metadata": {},
     "output_type": "execute_result"
    }
   ],
   "source": [
    "print(result.label.describe())\n",
    "np.unique(result.label)"
   ]
  },
  {
   "cell_type": "code",
   "execution_count": 47,
   "metadata": {
    "collapsed": false
   },
   "outputs": [],
   "source": [
    "from sklearn.ensemble import RandomForestClassifier\n",
    "import pandas as pd\n",
    "data_train = pd.read_csv(r\"C:\\Laury\\Tianchi_Tmall\\data_format2\\train_format2.csv\")\n"
   ]
  },
  {
   "cell_type": "code",
   "execution_count": 48,
   "metadata": {
    "collapsed": false
   },
   "outputs": [
    {
     "data": {
      "text/html": [
       "<div>\n",
       "<table border=\"1\" class=\"dataframe\">\n",
       "  <thead>\n",
       "    <tr style=\"text-align: right;\">\n",
       "      <th></th>\n",
       "      <th>user_id</th>\n",
       "      <th>age_range</th>\n",
       "      <th>gender</th>\n",
       "      <th>merchant_id</th>\n",
       "      <th>label</th>\n",
       "      <th>activity_log</th>\n",
       "    </tr>\n",
       "  </thead>\n",
       "  <tbody>\n",
       "    <tr>\n",
       "      <th>2521</th>\n",
       "      <td>182400</td>\n",
       "      <td>2.0</td>\n",
       "      <td>0.0</td>\n",
       "      <td>1519</td>\n",
       "      <td>-1</td>\n",
       "      <td>NaN</td>\n",
       "    </tr>\n",
       "    <tr>\n",
       "      <th>3623</th>\n",
       "      <td>190848</td>\n",
       "      <td>2.0</td>\n",
       "      <td>0.0</td>\n",
       "      <td>452</td>\n",
       "      <td>-1</td>\n",
       "      <td>NaN</td>\n",
       "    </tr>\n",
       "    <tr>\n",
       "      <th>8269</th>\n",
       "      <td>226176</td>\n",
       "      <td>NaN</td>\n",
       "      <td>NaN</td>\n",
       "      <td>1992</td>\n",
       "      <td>-1</td>\n",
       "      <td>547751:1349:7279:0902:0</td>\n",
       "    </tr>\n",
       "    <tr>\n",
       "      <th>8269</th>\n",
       "      <td>226176</td>\n",
       "      <td>NaN</td>\n",
       "      <td>NaN</td>\n",
       "      <td>1992</td>\n",
       "      <td>-1</td>\n",
       "      <td>547751:1349:7279:0902:0</td>\n",
       "    </tr>\n",
       "    <tr>\n",
       "      <th>8270</th>\n",
       "      <td>226176</td>\n",
       "      <td>NaN</td>\n",
       "      <td>NaN</td>\n",
       "      <td>487</td>\n",
       "      <td>-1</td>\n",
       "      <td>817592:1349:7532:0624:0#894236:36:7532:0624:0#...</td>\n",
       "    </tr>\n",
       "  </tbody>\n",
       "</table>\n",
       "</div>"
      ],
      "text/plain": [
       "      user_id  age_range  gender  merchant_id  label  \\\n",
       "2521   182400        2.0     0.0         1519     -1   \n",
       "3623   190848        2.0     0.0          452     -1   \n",
       "8269   226176        NaN     NaN         1992     -1   \n",
       "8269   226176        NaN     NaN         1992     -1   \n",
       "8270   226176        NaN     NaN          487     -1   \n",
       "\n",
       "                                           activity_log  \n",
       "2521                                                NaN  \n",
       "3623                                                NaN  \n",
       "8269                            547751:1349:7279:0902:0  \n",
       "8269                            547751:1349:7279:0902:0  \n",
       "8270  817592:1349:7532:0624:0#894236:36:7532:0624:0#...  "
      ]
     },
     "execution_count": 48,
     "metadata": {},
     "output_type": "execute_result"
    }
   ],
   "source": [
    "data_train.dropna(axis=0)\n",
    "data_train[data_train.isnull().values==True].head()"
   ]
  },
  {
   "cell_type": "code",
   "execution_count": 49,
   "metadata": {
    "collapsed": false
   },
   "outputs": [
    {
     "name": "stderr",
     "output_type": "stream",
     "text": [
      "C:\\ProgramData\\Anaconda3\\lib\\site-packages\\ipykernel\\__main__.py:2: UserWarning: Boolean Series key will be reindexed to match DataFrame index.\n",
      "  from ipykernel import kernelapp as app\n"
     ]
    },
    {
     "data": {
      "text/html": [
       "<div>\n",
       "<table border=\"1\" class=\"dataframe\">\n",
       "  <thead>\n",
       "    <tr style=\"text-align: right;\">\n",
       "      <th></th>\n",
       "      <th>user_id</th>\n",
       "      <th>age_range</th>\n",
       "      <th>gender</th>\n",
       "      <th>merchant_id</th>\n",
       "    </tr>\n",
       "  </thead>\n",
       "  <tbody>\n",
       "    <tr>\n",
       "      <th>133</th>\n",
       "      <td>362112</td>\n",
       "      <td>4.0</td>\n",
       "      <td>1.0</td>\n",
       "      <td>2618</td>\n",
       "    </tr>\n",
       "    <tr>\n",
       "      <th>174</th>\n",
       "      <td>232320</td>\n",
       "      <td>4.0</td>\n",
       "      <td>1.0</td>\n",
       "      <td>1168</td>\n",
       "    </tr>\n",
       "    <tr>\n",
       "      <th>189</th>\n",
       "      <td>232320</td>\n",
       "      <td>4.0</td>\n",
       "      <td>1.0</td>\n",
       "      <td>4270</td>\n",
       "    </tr>\n",
       "    <tr>\n",
       "      <th>346</th>\n",
       "      <td>36480</td>\n",
       "      <td>6.0</td>\n",
       "      <td>1.0</td>\n",
       "      <td>4730</td>\n",
       "    </tr>\n",
       "    <tr>\n",
       "      <th>394</th>\n",
       "      <td>37248</td>\n",
       "      <td>3.0</td>\n",
       "      <td>1.0</td>\n",
       "      <td>2615</td>\n",
       "    </tr>\n",
       "  </tbody>\n",
       "</table>\n",
       "</div>"
      ],
      "text/plain": [
       "     user_id  age_range  gender  merchant_id\n",
       "133   362112        4.0     1.0         2618\n",
       "174   232320        4.0     1.0         1168\n",
       "189   232320        4.0     1.0         4270\n",
       "346    36480        6.0     1.0         4730\n",
       "394    37248        3.0     1.0         2615"
      ]
     },
     "execution_count": 49,
     "metadata": {},
     "output_type": "execute_result"
    }
   ],
   "source": [
    "data_train.dropna(axis=0)\n",
    "data_train = data_train[data_train.label!=-1][data_train.age_range!=0][data_train.gender!=0][data_train.age_range.notnull()][data_train.gender.notnull()]\n",
    "y = data_train.label\n",
    "X = data_train.drop(['label','activity_log'],axis=1).filter(regex='user.*|age.*|gender.*|merch.*')\n",
    "X[X.isnull().values==True]\n",
    "X.dtypes\n",
    "y=y.astype('float64')\n",
    "X.head()"
   ]
  },
  {
   "cell_type": "code",
   "execution_count": 50,
   "metadata": {
    "collapsed": true
   },
   "outputs": [],
   "source": [
    "X_train, X_test, y_train, y_test = train_test_split(X, y, test_size=0.33, random_state=42)"
   ]
  },
  {
   "cell_type": "code",
   "execution_count": 51,
   "metadata": {
    "collapsed": false,
    "scrolled": true
   },
   "outputs": [
    {
     "data": {
      "text/plain": [
       "RandomForestClassifier(bootstrap=True, class_weight=None, criterion='gini',\n",
       "            max_depth=None, max_features='auto', max_leaf_nodes=None,\n",
       "            min_impurity_split=1e-07, min_samples_leaf=1,\n",
       "            min_samples_split=2, min_weight_fraction_leaf=0.0,\n",
       "            n_estimators=100, n_jobs=1, oob_score=False, random_state=None,\n",
       "            verbose=0, warm_start=False)"
      ]
     },
     "execution_count": 51,
     "metadata": {},
     "output_type": "execute_result"
    }
   ],
   "source": [
    "\n",
    "rfc = RandomForestClassifier(n_estimators=100, criterion='gini')\n",
    "\n",
    "rfc.fit(X_train,y_train)"
   ]
  },
  {
   "cell_type": "code",
   "execution_count": 55,
   "metadata": {
    "collapsed": false
   },
   "outputs": [
    {
     "name": "stdout",
     "output_type": "stream",
     "text": [
      "0.937724932805\n"
     ]
    },
    {
     "data": {
      "image/png": "[encoded data removed]",
      "text/plain": [
       "<matplotlib.figure.Figure at 0x1ec212d8c88>"
      ]
     },
     "metadata": {},
     "output_type": "display_data"
    },
    {
     "name": "stdout",
     "output_type": "stream",
     "text": [
      "175.0\n"
     ]
    },
    {
     "data": {
      "text/plain": [
       "1228.0"
      ]
     },
     "execution_count": 55,
     "metadata": {},
     "output_type": "execute_result"
    }
   ],
   "source": [
    "from sklearn.metrics import accuracy_score\n",
    "y_pred = rfc.predict(X_test)\n",
    "\n",
    "print(accuracy_score(y_test, y_pred))\n",
    "\n",
    "plt.clf()\n",
    "plt.plot(list(range(len(y_pred-y_test))),y_pred-y_test)\n",
    "plt.show()\n",
    "X_test.shape\n",
    "print(y_pred.sum())\n",
    "y_test.sum()"
   ]
  },
  {
   "cell_type": "code",
   "execution_count": 56,
   "metadata": {
    "collapsed": false
   },
   "outputs": [
    {
     "name": "stdout",
     "output_type": "stream",
     "text": [
      "   user_id  age_range  gender  merchant_id  label  \\\n",
      "0   163968        0.0     0.0         4378   -1.0   \n",
      "1   163968        0.0     0.0         2300   -1.0   \n",
      "2   163968        0.0     0.0         1551   -1.0   \n",
      "3   163968        0.0     0.0         4343   -1.0   \n",
      "4   163968        0.0     0.0         4911   -1.0   \n",
      "\n",
      "                                        activity_log  \n",
      "0                             101206:812:6968:0614:0  \n",
      "1  588758:844:3833:0618:0#71782:844:3833:1111:2#7...  \n",
      "2  312747:243:1954:0627:0#312747:243:1954:0627:0#...  \n",
      "3                            932390:1612:3201:0628:0  \n",
      "4                             957657:662:3089:0612:0  \n"
     ]
    }
   ],
   "source": [
    "data_test = pd.read_csv(r\"C:\\Laury\\Tianchi_Tmall\\data_format2\\test_format2.csv\")\n",
    "print(data_test.head())"
   ]
  },
  {
   "cell_type": "code",
   "execution_count": 59,
   "metadata": {
    "collapsed": false
   },
   "outputs": [
    {
     "name": "stderr",
     "output_type": "stream",
     "text": [
      "C:\\ProgramData\\Anaconda3\\lib\\site-packages\\ipykernel\\__main__.py:1: UserWarning: Boolean Series key will be reindexed to match DataFrame index.\n",
      "  if __name__ == '__main__':\n",
      "C:\\ProgramData\\Anaconda3\\lib\\site-packages\\ipykernel\\__main__.py:2: UserWarning: Boolean Series key will be reindexed to match DataFrame index.\n",
      "  from ipykernel import kernelapp as app\n"
     ]
    },
    {
     "data": {
      "text/plain": [
       "(1554333, 4)"
      ]
     },
     "execution_count": 59,
     "metadata": {},
     "output_type": "execute_result"
    }
   ],
   "source": [
    "data_test = data_test[data_test.age_range!=0][data_test.gender!=0]\n",
    "data_test = data_test[data_test.age_range.notnull()][data_test.gender.notnull()].dropna().filter(regex='user.*|age.*|gender.*|merch.*')\n",
    "#data_test = data_test.iloc[:1000,:]\n",
    "data_test.shape"
   ]
  },
  {
   "cell_type": "code",
   "execution_count": 60,
   "metadata": {
    "collapsed": false
   },
   "outputs": [
    {
     "data": {
      "text/html": [
       "<div>\n",
       "<table border=\"1\" class=\"dataframe\">\n",
       "  <thead>\n",
       "    <tr style=\"text-align: right;\">\n",
       "      <th></th>\n",
       "      <th>user_id</th>\n",
       "      <th>age_range</th>\n",
       "      <th>gender</th>\n",
       "      <th>merchant_id</th>\n",
       "    </tr>\n",
       "  </thead>\n",
       "  <tbody>\n",
       "    <tr>\n",
       "      <th>21</th>\n",
       "      <td>360576</td>\n",
       "      <td>2.0</td>\n",
       "      <td>2.0</td>\n",
       "      <td>145</td>\n",
       "    </tr>\n",
       "    <tr>\n",
       "      <th>22</th>\n",
       "      <td>360576</td>\n",
       "      <td>2.0</td>\n",
       "      <td>2.0</td>\n",
       "      <td>75</td>\n",
       "    </tr>\n",
       "    <tr>\n",
       "      <th>23</th>\n",
       "      <td>360576</td>\n",
       "      <td>2.0</td>\n",
       "      <td>2.0</td>\n",
       "      <td>4160</td>\n",
       "    </tr>\n",
       "    <tr>\n",
       "      <th>24</th>\n",
       "      <td>360576</td>\n",
       "      <td>2.0</td>\n",
       "      <td>2.0</td>\n",
       "      <td>4321</td>\n",
       "    </tr>\n",
       "    <tr>\n",
       "      <th>25</th>\n",
       "      <td>360576</td>\n",
       "      <td>2.0</td>\n",
       "      <td>2.0</td>\n",
       "      <td>471</td>\n",
       "    </tr>\n",
       "  </tbody>\n",
       "</table>\n",
       "</div>"
      ],
      "text/plain": [
       "    user_id  age_range  gender  merchant_id\n",
       "21   360576        2.0     2.0          145\n",
       "22   360576        2.0     2.0           75\n",
       "23   360576        2.0     2.0         4160\n",
       "24   360576        2.0     2.0         4321\n",
       "25   360576        2.0     2.0          471"
      ]
     },
     "execution_count": 60,
     "metadata": {},
     "output_type": "execute_result"
    }
   ],
   "source": [
    "data_test.head()"
   ]
  },
  {
   "cell_type": "code",
   "execution_count": 69,
   "metadata": {
    "collapsed": false
   },
   "outputs": [
    {
     "name": "stdout",
     "output_type": "stream",
     "text": [
      "    user_id  age_range  gender  merchant_id\n",
      "21   360576        2.0     2.0          145\n",
      "22   360576        2.0     2.0           75\n",
      "23   360576        2.0     2.0         4160\n",
      "24   360576        2.0     2.0         4321\n",
      "25   360576        2.0     2.0          471\n"
     ]
    }
   ],
   "source": [
    "\n",
    "print(data_test.head())\n",
    "predictions = rfc.predict(data_test)\n",
    "\n",
    "result = pd.DataFrame({'UserID':data_test['user_id'].as_matrix(), 'merchant_id':data_test['merchant_id'].as_matrix(), 'label':predictions.astype(np.int32)})"
   ]
  },
  {
   "cell_type": "code",
   "execution_count": 70,
   "metadata": {
    "collapsed": false
   },
   "outputs": [
    {
     "data": {
      "text/plain": [
       "6110.0"
      ]
     },
     "execution_count": 70,
     "metadata": {},
     "output_type": "execute_result"
    }
   ],
   "source": [
    "predictions.sum()"
   ]
  },
  {
   "cell_type": "code",
   "execution_count": 63,
   "metadata": {
    "collapsed": false
   },
   "outputs": [
    {
     "data": {
      "text/plain": [
       "0.003930946586091912"
      ]
     },
     "execution_count": 63,
     "metadata": {},
     "output_type": "execute_result"
    }
   ],
   "source": [
    "6110.0/1554333"
   ]
  },
  {
   "cell_type": "code",
   "execution_count": 71,
   "metadata": {
    "collapsed": false
   },
   "outputs": [
    {
     "data": {
      "text/html": [
       "<div>\n",
       "<table border=\"1\" class=\"dataframe\">\n",
       "  <thead>\n",
       "    <tr style=\"text-align: right;\">\n",
       "      <th></th>\n",
       "      <th>UserID</th>\n",
       "      <th>label</th>\n",
       "      <th>merchant_id</th>\n",
       "    </tr>\n",
       "  </thead>\n",
       "  <tbody>\n",
       "    <tr>\n",
       "      <th>0</th>\n",
       "      <td>360576</td>\n",
       "      <td>0</td>\n",
       "      <td>145</td>\n",
       "    </tr>\n",
       "    <tr>\n",
       "      <th>1</th>\n",
       "      <td>360576</td>\n",
       "      <td>0</td>\n",
       "      <td>75</td>\n",
       "    </tr>\n",
       "    <tr>\n",
       "      <th>2</th>\n",
       "      <td>360576</td>\n",
       "      <td>0</td>\n",
       "      <td>4160</td>\n",
       "    </tr>\n",
       "    <tr>\n",
       "      <th>3</th>\n",
       "      <td>360576</td>\n",
       "      <td>0</td>\n",
       "      <td>4321</td>\n",
       "    </tr>\n",
       "    <tr>\n",
       "      <th>4</th>\n",
       "      <td>360576</td>\n",
       "      <td>1</td>\n",
       "      <td>471</td>\n",
       "    </tr>\n",
       "  </tbody>\n",
       "</table>\n",
       "</div>"
      ],
      "text/plain": [
       "   UserID  label  merchant_id\n",
       "0  360576      0          145\n",
       "1  360576      0           75\n",
       "2  360576      0         4160\n",
       "3  360576      0         4321\n",
       "4  360576      1          471"
      ]
     },
     "execution_count": 71,
     "metadata": {},
     "output_type": "execute_result"
    }
   ],
   "source": [
    "result.head()"
   ]
  },
  {
   "cell_type": "code",
   "execution_count": 72,
   "metadata": {
    "collapsed": false
   },
   "outputs": [],
   "source": [
    "label=result['label']\n",
    "result.drop(labels=['label'], axis=1,inplace = True)\n",
    "result.insert(2,'label',label)\n",
    "result.to_csv(r\"C:\\Laury\\Tianchi_Tmall\\data_format2\\random_forest_predictions.csv\", index=False)"
   ]
  },
  {
   "cell_type": "code",
   "execution_count": 73,
   "metadata": {
    "collapsed": false
   },
   "outputs": [
    {
     "data": {
      "text/plain": [
       "6110"
      ]
     },
     "execution_count": 73,
     "metadata": {},
     "output_type": "execute_result"
    }
   ],
   "source": [
    "result.label.sum()"
   ]
  },
  {
   "cell_type": "code",
   "execution_count": 74,
   "metadata": {
    "collapsed": false,
    "scrolled": true
   },
   "outputs": [
    {
     "name": "stdout",
     "output_type": "stream",
     "text": [
      "<class 'pandas.core.frame.DataFrame'>\n",
      "RangeIndex: 1554333 entries, 0 to 1554332\n",
      "Data columns (total 3 columns):\n",
      "UserID         1554333 non-null int64\n",
      "merchant_id    1554333 non-null int64\n",
      "label          1554333 non-null int32\n",
      "dtypes: int32(1), int64(2)\n",
      "memory usage: 29.6 MB\n"
     ]
    }
   ],
   "source": [
    "result.info()"
   ]
  },
  {
   "cell_type": "code",
   "execution_count": null,
   "metadata": {
    "collapsed": true
   },
   "outputs": [],
   "source": []
  }
 ],
 "metadata": {
  "kernelspec": {
   "display_name": "Python 3",
   "language": "python",
   "name": "python3"
  },
  "language_info": {
   "codemirror_mode": {
    "name": "ipython",
    "version": 3
   },
   "file_extension": ".py",
   "mimetype": "text/x-python",
   "name": "python",
   "nbconvert_exporter": "python",
   "pygments_lexer": "ipython3",
   "version": "3.6.0"
  }
 },
 "nbformat": 4,
 "nbformat_minor": 2
}
